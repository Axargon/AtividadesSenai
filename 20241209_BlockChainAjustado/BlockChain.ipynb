{
  "nbformat": 4,
  "nbformat_minor": 0,
  "metadata": {
    "colab": {
      "provenance": []
    },
    "kernelspec": {
      "name": "python3",
      "display_name": "Python 3"
    },
    "language_info": {
      "name": "python"
    }
  },
  "cells": [
    {
      "cell_type": "markdown",
      "source": [
        "Criação do blockchain"
      ],
      "metadata": {
        "id": "Wzo2l8RbZxvl"
      }
    },
    {
      "cell_type": "code",
      "source": [
        "import hashlib #importa a biblioteca que faz calculo da hash\n",
        "import json #importa o modulo que manipula arquivos json\n",
        "from time import time #importa a função tim para obter timestamp (data e hora)\n",
        "\n",
        "class Bloco:\n",
        "  def __init__ (self, index, dados, hash_anterior = ''):\n",
        "    # inicializar o bloco com os parametros fornecidos e atributos necessarios\n",
        "    self.index = index #indice do bloco da cadeia\n",
        "    self.timestamp = time() # registrar o momento da criação do bloco\n",
        "    self.dados = dados # informações, payload (ex: transações)\n",
        "    self.hash_anterior = hash_anterior # hash do bloco anterior da cadeia\n",
        "    self.nonce = 0 # valor usado na prova de trabalho para alterar o hash\n",
        "    self.hash_atual =self.gerar_hash() #gerar o has do bloco\n",
        "\n",
        "  def gerar_hash (self):\n",
        "    #Função para gerar o hash SHA-256 do bloco\n",
        "    conteudo_bloco = json.dumps({\n",
        "        'index': self.index,\n",
        "        'timestamp':self.timestamp,\n",
        "        'dados': self.dados,\n",
        "        'hash_anterior' : self.hash_anterior,\n",
        "        'nonce':self.nonce\n",
        "    },sort_keys = True).encode() # converte os dados em uma string JSON ordenada\n",
        "    return hashlib.sha256(conteudo_bloco).hexdigest()# calcula o hash SHA256 do conteudo do bloco\n",
        "\n",
        "  def prova_de_trabalho(self, dificuldade):\n",
        "    #realiza a prova de trabalho ajustando o nonce ate que o has hcomece com 'dificuldade' zero\n",
        "    while self.hash_atual[:dificuldade] != '0'* dificuldade:\n",
        "      self.nonce += 1 #incrementa o nonce para alterar o hash\n",
        "      self.hash_atual = self.gerar_hash() #recalcula o hash com novo nonce\n",
        "\n",
        "class contrato_inteligente:\n",
        "  def validar_glicemia(self, dados):\n",
        "        # Regra: glicemia deve estar entre 0 e 600\n",
        "        if not isinstance(dados.get('glicose'), (int, float)) or not (0 <= dados['glicose'] <= 126):\n",
        "            raise ValueError(\"Dados de glicemia inválidos! Devem ser entre 0 e 126, diabéticos não aceitos!\")\n",
        "        return True\n",
        "\n",
        "class Blockchain:\n",
        "  def __init__(self,contrato_inteligente):\n",
        "    #inicializa a blockchain com um bloco genesis e definir a fidiculdade da prova de trabalho\n",
        "    self.cadeia = [self.criar_bloco_genesis()] #lista que armazena os blocos na cadeia\n",
        "    self.dificuldade = 2 # defini o numero de zeros necessarios no hash da prova de tragalho\n",
        "    self.contrato = contrato_inteligente # Armazena o contrato inteligente\n",
        "\n",
        "  def validacao(self, data):\n",
        "     # Validação de glicemia (exemplo: valores aceitáveis entre 0 e 600)\n",
        "     return isinstance(data, (int, float)) and 0 <= data <= 600\n",
        "\n",
        "  def criar_bloco_genesis(self):\n",
        "    return Bloco(0, \"Bloco Genesis\", \"0\") #cria o bloco genesis\n",
        "\n",
        "  def obter_ultimo_bloco(self):\n",
        "    #retura o ultimo bloco da cadeia\n",
        "    return self.cadeia[-1]\n",
        "\n",
        "  def adicionar_bloco(self, novo_bloco):\n",
        "    # Valida os dados do bloco usando o contrato inteligente\n",
        "    self.contrato.validar_glicemia(novo_bloco.dados)\n",
        "    #adiciona novo bloco à cadeia\n",
        "    novo_bloco.hash_anterior = self.obter_ultimo_bloco().hash_atual #define o hash do bloco anterior\n",
        "    novo_bloco.prova_de_trabalho(self.dificuldade) # realiza a prova de trabaho para alterar o hash\n",
        "    self.cadeia.append(novo_bloco) # adiciona o novo bloco à cadeia\n",
        "\n",
        "  def validar_cadeia(self):\n",
        "    #valida a integridade da cadeia, validando hashes e encademamento\n",
        "    for i in range(1, len(self.cadeia)):\n",
        "      bloco_atual = self.cadeia[i]\n",
        "      bloco_anterior = self.cadeia[i-1]\n",
        "\n",
        "      #verifica se o hash armazenado corresponde ao hash calculado\n",
        "      if bloco_atual.hash_atual!=  bloco_atual.gerar_hash():\n",
        "        return False # retorna false se houver discrepancia\n",
        "\n",
        "      #verificar se o hash do bloco anterior corresponde ao hash armazenado no bloco anterior\n",
        "      if bloco_atual.hash_anterior != bloco_anterior.gerar_hash():\n",
        "        return False # retorna false se houver discrepancia\n",
        "    return True # retorna true se a cadeia for validada\n",
        "\n",
        "  def salvar_em_json(self, nome_arquivo = 'blockchain.json'):\n",
        "    #salvar a cadeia em um arquivo JSON\n",
        "    with open(nome_arquivo,'w') as arquivo:\n",
        "      json.dump([bloco.__dict__ for bloco in self.cadeia], arquivo, indent = 4)\n",
        "\n",
        "def coletar_dados_exame():\n",
        "  glicose = float(input(\"Digite o valor da glicose: \"))\n",
        "  return{\n",
        "      'glicose': glicose\n",
        "  } #retorna um dicionario com os dados coletados"
      ],
      "metadata": {
        "id": "Kt0m9GbBaIPu"
      },
      "execution_count": 28,
      "outputs": []
    },
    {
      "cell_type": "markdown",
      "source": [
        "Instanciar Blokchain"
      ],
      "metadata": {
        "id": "HHQQCD4oZ69k"
      }
    },
    {
      "cell_type": "code",
      "source": [
        "# Criar o contrato inteligente\n",
        "contrato = contrato_inteligente()\n",
        "\n",
        "# Criar a blockchain com o contrato inteligente\n",
        "blockchain = Blockchain(contrato)"
      ],
      "metadata": {
        "id": "DyqBfO3zaJ6o"
      },
      "execution_count": 29,
      "outputs": []
    },
    {
      "cell_type": "markdown",
      "source": [
        "Adicionar um bloco"
      ],
      "metadata": {
        "id": "kZ_ir4VtaAFj"
      }
    },
    {
      "cell_type": "code",
      "source": [
        "# Loop para adicionar blocos\n",
        "while True:\n",
        "    try:\n",
        "        dados = coletar_dados_exame()  # Coletar os dados\n",
        "        novo_bloco = Bloco(len(blockchain.cadeia), dados)  # Criar o bloco\n",
        "        blockchain.adicionar_bloco(novo_bloco)  # Adicionar à blockchain\n",
        "        print(\"Bloco adicionado com sucesso!\")\n",
        "    except ValueError as e:\n",
        "        print(e)\n",
        "\n",
        "    continuar = input(\"Deseja adicionar outro bloco? (s/n): \")\n",
        "    if continuar.lower() != 's':\n",
        "        break\n",
        "\n",
        "# Exibir a blockchain\n",
        "for bloco in blockchain.cadeia:\n",
        "    print(vars(bloco))\n",
        "\n",
        "# Salvar a blockchain em um arquivo JSON\n",
        "blockchain.salvar_em_json()\n",
        "print(\"Blockchain salva em 'blockchain.json'.\")"
      ],
      "metadata": {
        "colab": {
          "base_uri": "https://localhost:8080/"
        },
        "id": "uPdXrTzhaKXX",
        "outputId": "93046d80-fc7d-4a94-9554-0a43d4a40ee4"
      },
      "execution_count": 30,
      "outputs": [
        {
          "output_type": "stream",
          "name": "stdout",
          "text": [
            "Digite o valor da glicose: 300\n",
            "Dados de glicemia inválidos! Devem ser entre 0 e 126, diabéticos não aceitos!\n",
            "Deseja adicionar outro bloco? (s/n): s\n",
            "Digite o valor da glicose: 100\n",
            "Bloco adicionado com sucesso!\n",
            "Deseja adicionar outro bloco? (s/n): n\n",
            "{'index': 0, 'timestamp': 1733792843.5815911, 'dados': 'Bloco Genesis', 'hash_anterior': '0', 'nonce': 0, 'hash_atual': '2a1d1d64e5866c12e19656acfb922dbfb8fa1bb3a131eefa0451a56220eedde9'}\n",
            "{'index': 1, 'timestamp': 1733792863.4120193, 'dados': {'glicose': 100.0}, 'hash_anterior': '2a1d1d64e5866c12e19656acfb922dbfb8fa1bb3a131eefa0451a56220eedde9', 'nonce': 287, 'hash_atual': '000e6ed8f2bf376531739f978f9fce99349b62b5f36ffe2c28f7984aad60f1df'}\n",
            "Blockchain salva em 'blockchain.json'.\n"
          ]
        }
      ]
    },
    {
      "cell_type": "markdown",
      "source": [
        "Exibir o conteudo do arquivo Json"
      ],
      "metadata": {
        "id": "Q-X8JYIUaDu0"
      }
    },
    {
      "cell_type": "code",
      "source": [
        "def print_json_content(filename):\n",
        "  #tenta abrir e processar o arquivo json\n",
        "  try:\n",
        "    with open(filename,'r') as file:\n",
        "      data = json.load(file)\n",
        "      print(json.dumps(data, indent =4))\n",
        "  except FileNotFoundError:\n",
        "    print(f\"Erro: Arquivo {filename} não encontrado\")\n",
        "  except json.JSONDecodeError:\n",
        "    print(f\"Erro: Arquivo {filename} não é um json válido\")\n",
        "\n",
        "print_json_content('blockchain.json')\n"
      ],
      "metadata": {
        "colab": {
          "base_uri": "https://localhost:8080/"
        },
        "id": "EQwIQxBcaK4-",
        "outputId": "26f20e88-8b7a-489a-cf1c-402d2667fec3"
      },
      "execution_count": 31,
      "outputs": [
        {
          "output_type": "stream",
          "name": "stdout",
          "text": [
            "[\n",
            "    {\n",
            "        \"index\": 0,\n",
            "        \"timestamp\": 1733792843.5815911,\n",
            "        \"dados\": \"Bloco Genesis\",\n",
            "        \"hash_anterior\": \"0\",\n",
            "        \"nonce\": 0,\n",
            "        \"hash_atual\": \"2a1d1d64e5866c12e19656acfb922dbfb8fa1bb3a131eefa0451a56220eedde9\"\n",
            "    },\n",
            "    {\n",
            "        \"index\": 1,\n",
            "        \"timestamp\": 1733792863.4120193,\n",
            "        \"dados\": {\n",
            "            \"glicose\": 100.0\n",
            "        },\n",
            "        \"hash_anterior\": \"2a1d1d64e5866c12e19656acfb922dbfb8fa1bb3a131eefa0451a56220eedde9\",\n",
            "        \"nonce\": 287,\n",
            "        \"hash_atual\": \"000e6ed8f2bf376531739f978f9fce99349b62b5f36ffe2c28f7984aad60f1df\"\n",
            "    }\n",
            "]\n"
          ]
        }
      ]
    }
  ]
}