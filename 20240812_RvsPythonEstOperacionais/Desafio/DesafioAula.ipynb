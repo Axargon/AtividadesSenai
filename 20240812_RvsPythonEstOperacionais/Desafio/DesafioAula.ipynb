{
 "cells": [
  {
   "cell_type": "markdown",
   "metadata": {},
   "source": [
    "### Imprima os elementos de um dicionário até encontrar um valor específico."
   ]
  },
  {
   "cell_type": "code",
   "execution_count": 7,
   "metadata": {},
   "outputs": [
    {
     "name": "stdout",
     "output_type": "stream",
     "text": [
      "Chave:a, Valor:1\n",
      "Chave:b, Valor:2\n",
      "Chave:c, Valor:3\n"
     ]
    }
   ],
   "source": [
    "dicionario = {'a':1,'b':2,'c':3,'d':4,'e':5,'f':6}\n",
    "proc = 3\n",
    "for chave, valor in dicionario.items():\n",
    "    if valor == proc:\n",
    "        print(f\"Chave:{chave}, Valor:{valor}\")\n",
    "        break\n",
    "    else:\n",
    "        print(f\"Chave:{chave}, Valor:{valor}\")"
   ]
  },
  {
   "cell_type": "code",
   "execution_count": null,
   "metadata": {},
   "outputs": [],
   "source": []
  }
 ],
 "metadata": {
  "kernelspec": {
   "display_name": "Python 3",
   "language": "python",
   "name": "python3"
  },
  "language_info": {
   "codemirror_mode": {
    "name": "ipython",
    "version": 3
   },
   "file_extension": ".py",
   "mimetype": "text/x-python",
   "name": "python",
   "nbconvert_exporter": "python",
   "pygments_lexer": "ipython3",
   "version": "3.12.1"
  }
 },
 "nbformat": 4,
 "nbformat_minor": 2
}
