{
 "cells": [
  {
   "cell_type": "markdown",
   "metadata": {},
   "source": [
    "#### 1) Verifique se o número é positivo"
   ]
  },
  {
   "cell_type": "code",
   "execution_count": 2,
   "metadata": {},
   "outputs": [
    {
     "name": "stdout",
     "output_type": "stream",
     "text": [
      "O número é negativo\n"
     ]
    }
   ],
   "source": [
    "#verifique se o numero é positivo\n",
    "def verifica_positivo(n):\n",
    "    if n>0:\n",
    "        print(\"O número é positivo\")\n",
    "    else:\n",
    "        print(\"O número é negativo\")\n",
    "verifica_positivo(-5)\n"
   ]
  },
  {
   "cell_type": "markdown",
   "metadata": {},
   "source": [
    "#### 2) Verifique se uma palavra tem mais de 5 caracteres"
   ]
  },
  {
   "cell_type": "code",
   "execution_count": 5,
   "metadata": {},
   "outputs": [
    {
     "name": "stdout",
     "output_type": "stream",
     "text": [
      "palavra tem menos que 5 caracteres\n"
     ]
    }
   ],
   "source": [
    "palavra = 'abracadabra'\n",
    "\n",
    "if (len(palavra))>5:\n",
    "    print('Palavra tem mais que 5 caracteres')\n",
    "else:\n",
    "    print('palavra tem menos que 5 caracteres')"
   ]
  },
  {
   "cell_type": "markdown",
   "metadata": {},
   "source": [
    "#### 3) Verifique se um um ano é bisexto\n"
   ]
  },
  {
   "cell_type": "code",
   "execution_count": 6,
   "metadata": {},
   "outputs": [
    {
     "name": "stdout",
     "output_type": "stream",
     "text": [
      "O ano é bisexto\n"
     ]
    }
   ],
   "source": [
    "ano = 2024\n",
    "if (ano% 4== 0 and ano % 100!= 0)or(ano%400 ==0):\n",
    "    print(\"O ano é bisexto\")\n",
    "else:\n",
    "    print(\"O ano não é bisexto\")\n",
    "\n"
   ]
  },
  {
   "cell_type": "markdown",
   "metadata": {},
   "source": [
    "#### 4) Verifique se um número está entre 10 e 20"
   ]
  },
  {
   "cell_type": "code",
   "execution_count": 7,
   "metadata": {},
   "outputs": [
    {
     "name": "stdout",
     "output_type": "stream",
     "text": [
      "O Número não está entre 10 e 20\n"
     ]
    }
   ],
   "source": [
    "num = 21\n",
    "if(num>=10 and num <=20):\n",
    "  print(\"O Número está entre 10 e 20\")\n",
    "else:\n",
    "  print(\"O Número não está entre 10 e 20\")\n"
   ]
  },
  {
   "cell_type": "markdown",
   "metadata": {},
   "source": [
    "#### 5) Verifique se uma string contém letras e números"
   ]
  },
  {
   "cell_type": "code",
   "execution_count": 12,
   "metadata": {},
   "outputs": [
    {
     "name": "stdout",
     "output_type": "stream",
     "text": [
      "A string náo possui letras e números\n"
     ]
    }
   ],
   "source": [
    "word = 'eurin'\n",
    "if any(c.isalpha() for c in word) and any(c.isdigit() for c in word):\n",
    "    print(\"A string possui letras e números\")\n",
    "else:\n",
    "    print(\"A string náo possui letras e números\")"
   ]
  },
  {
   "cell_type": "markdown",
   "metadata": {},
   "source": [
    "#### 6) Verifique a faixa etária de uma pessoa e classifique em criança, adolescente, adulto, idoso)"
   ]
  },
  {
   "cell_type": "code",
   "execution_count": 13,
   "metadata": {},
   "outputs": [
    {
     "name": "stdout",
     "output_type": "stream",
     "text": [
      "Adulto\n"
     ]
    }
   ],
   "source": [
    "idade = 25\n",
    "if idade <13:\n",
    "    print(\"Criança\")\n",
    "elif(idade <18):\n",
    "    print(\"Adolescente\")\n",
    "elif(idade <60):\n",
    "    print(\"Adulto\")\n",
    "else:\n",
    "    print(\"Idoso\")"
   ]
  },
  {
   "cell_type": "markdown",
   "metadata": {},
   "source": [
    "#### 7) Determine a estação do ano no hemisferio norte baseada no mês (primavera verão oututono inverno)"
   ]
  },
  {
   "cell_type": "code",
   "execution_count": 14,
   "metadata": {},
   "outputs": [
    {
     "name": "stdout",
     "output_type": "stream",
     "text": [
      "outono\n"
     ]
    }
   ],
   "source": [
    "mes = 5 \n",
    "if mes in [6,7,8]:\n",
    "    print(\"inverno\")\n",
    "elif mes in [9,10,11]:\n",
    "    print(\"primavera\")\n",
    "elif mes in [12,1,2]:\n",
    "    print(\"verão\")\n",
    "elif mes in [3,4,5]:\n",
    "    print(\"outono\")\n",
    "else:\n",
    "    print(\"mes invalido\")\n"
   ]
  },
  {
   "cell_type": "markdown",
   "metadata": {},
   "source": [
    "#### 8) Imprima os numeros de 1 a 10"
   ]
  },
  {
   "cell_type": "code",
   "execution_count": 20,
   "metadata": {},
   "outputs": [
    {
     "name": "stdout",
     "output_type": "stream",
     "text": [
      "1\n",
      "2\n",
      "3\n",
      "4\n",
      "5\n",
      "6\n",
      "7\n",
      "8\n",
      "9\n",
      "10\n"
     ]
    }
   ],
   "source": [
    "for i in range(1,11):\n",
    "    print(i)"
   ]
  },
  {
   "cell_type": "markdown",
   "metadata": {},
   "source": []
  },
  {
   "cell_type": "markdown",
   "metadata": {},
   "source": [
    "#### 9) Imprima os elementos de uma lista"
   ]
  },
  {
   "cell_type": "code",
   "execution_count": 21,
   "metadata": {},
   "outputs": [
    {
     "name": "stdout",
     "output_type": "stream",
     "text": [
      "1\n",
      "2\n",
      "3\n",
      "4\n",
      "5\n"
     ]
    }
   ],
   "source": [
    "lista = [1,2,3,4,5]\n",
    "for i in lista:\n",
    "    print (i)"
   ]
  },
  {
   "cell_type": "markdown",
   "metadata": {},
   "source": [
    "#### 10) imprima os elementos de um dicionario"
   ]
  },
  {
   "cell_type": "code",
   "execution_count": 28,
   "metadata": {},
   "outputs": [
    {
     "name": "stdout",
     "output_type": "stream",
     "text": [
      "Chave:a, Valor:1\n",
      "Chave:b, Valor:2\n",
      "Chave:c, Valor:3\n"
     ]
    }
   ],
   "source": [
    "dicionario = {'a':1,'b':2,'c':3}\n",
    "for chave, valor in dicionario.items():\n",
    "    print(f\"Chave:{chave}, Valor:{valor}\")"
   ]
  },
  {
   "cell_type": "markdown",
   "metadata": {},
   "source": [
    "#### 11) Imprima numeros de 1 a 10 usando um laco while."
   ]
  },
  {
   "cell_type": "code",
   "execution_count": 31,
   "metadata": {},
   "outputs": [
    {
     "name": "stdout",
     "output_type": "stream",
     "text": [
      "1\n",
      "2\n",
      "3\n",
      "4\n",
      "5\n",
      "6\n",
      "7\n",
      "8\n",
      "9\n",
      "10\n"
     ]
    }
   ],
   "source": [
    "i = 1\n",
    "while i < 11:\n",
    "    print(i)\n",
    "    i+=1"
   ]
  }
 ],
 "metadata": {
  "kernelspec": {
   "display_name": "Python 3",
   "language": "python",
   "name": "python3"
  },
  "language_info": {
   "codemirror_mode": {
    "name": "ipython",
    "version": 3
   },
   "file_extension": ".py",
   "mimetype": "text/x-python",
   "name": "python",
   "nbconvert_exporter": "python",
   "pygments_lexer": "ipython3",
   "version": "3.12.1"
  }
 },
 "nbformat": 4,
 "nbformat_minor": 2
}
