{
 "cells": [
  {
   "cell_type": "code",
   "execution_count": 1,
   "metadata": {},
   "outputs": [
    {
     "name": "stdout",
     "output_type": "stream",
     "text": [
      "8\n"
     ]
    }
   ],
   "source": [
    "#Implemente uma função que retorna a soma de dois numeros\n",
    "def soma(a,b):\n",
    "    return a + b\n",
    "\n",
    "print(soma(3,5))"
   ]
  },
  {
   "cell_type": "code",
   "execution_count": 2,
   "metadata": {},
   "outputs": [
    {
     "name": "stdout",
     "output_type": "stream",
     "text": [
      "7\n"
     ]
    }
   ],
   "source": [
    "#Implemente uma função que retorna a quantidade de vogais em uma string.\n",
    "def conta_vogais(word):\n",
    "    vogais = \"aeiou\"\n",
    "    return sum(1 for char in word if char.lower() in vogais )\n",
    "print(conta_vogais(\"paralelepipedo\"))"
   ]
  },
  {
   "cell_type": "code",
   "execution_count": 24,
   "metadata": {},
   "outputs": [
    {
     "name": "stdout",
     "output_type": "stream",
     "text": [
      "[[3, 6, 9], [4, 8, 12], [3, 6, 9]]\n"
     ]
    }
   ],
   "source": [
    "#Implemente uma função que retorna o produto de duas matrizes\n",
    "def mult_matriz(m1,m2):\n",
    "    if len(m1)!= len(m2[0]):\n",
    "        return (\"Incompatibilidade de linhas e colunas entre estas matrízes\")\n",
    "    else:\n",
    "        resultado = [[sum(a*b for a,b in zip(linha_a,coluna_b))for coluna_b in zip(*m2)]for linha_a in m1]\n",
    "    return resultado\n",
    "    \n",
    "m1 = [[1,2],[2,2],[1,2]]\n",
    "m2 = [[1,2,3],[1,2,3],[1,2,3]]\n",
    "\n",
    "print(mult_matriz(m1,m2))\n"
   ]
  },
  {
   "cell_type": "code",
   "execution_count": 27,
   "metadata": {},
   "outputs": [
    {
     "name": "stdout",
     "output_type": "stream",
     "text": [
      "24\n"
     ]
    }
   ],
   "source": [
    "#implemente uma funcao recursiva que calcula o fatorial de um numero\n",
    "def fatorial(n):\n",
    "    if n==1:\n",
    "        return 1\n",
    "    else:\n",
    "        return n*(fatorial(n-1))\n",
    "print(fatorial(1))"
   ]
  },
  {
   "cell_type": "code",
   "execution_count": 28,
   "metadata": {},
   "outputs": [
    {
     "name": "stdout",
     "output_type": "stream",
     "text": [
      "55\n"
     ]
    }
   ],
   "source": [
    "#implemente uma funcao que retorna a soma dos n primeiros numeros naturais\n",
    "def soma_n_numeros(n):\n",
    "    if n==0:\n",
    "        return 0\n",
    "    return n+(soma_n_numeros(n-1))\n",
    "\n",
    "print(soma_n_numeros(10))"
   ]
  }
 ],
 "metadata": {
  "kernelspec": {
   "display_name": "Python 3",
   "language": "python",
   "name": "python3"
  },
  "language_info": {
   "codemirror_mode": {
    "name": "ipython",
    "version": 3
   },
   "file_extension": ".py",
   "mimetype": "text/x-python",
   "name": "python",
   "nbconvert_exporter": "python",
   "pygments_lexer": "ipython3",
   "version": "3.12.1"
  }
 },
 "nbformat": 4,
 "nbformat_minor": 2
}
