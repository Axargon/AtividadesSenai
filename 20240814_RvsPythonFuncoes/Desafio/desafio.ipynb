{
 "cells": [
  {
   "cell_type": "code",
   "execution_count": 31,
   "metadata": {},
   "outputs": [],
   "source": [
    "'''\n",
    "Descrição: Desenvolva um projeto que integre todos os tópicos abordados em aula. O projeto deve receber uma lista de números, verificar\n",
    "se cada número é par ou ímpar, calcular a soma dos números pares e ímpares, encontrar o maior e o menor número da lista, calcular a média \n",
    "dos números, tratar possíveis erros de entrada e, finalmente, exibir os resultados. O projeto deve ser implementado em Python e R.\n",
    "'''\n",
    "def funcao_par(lista):\n",
    "    par = ( i for i in lista if i%2==0)\n",
    "    return par\n",
    "def funcao_impar(lista):\n",
    "    impar = (i for i in lista if i%2 !=0)\n",
    "    return impar\n",
    "def soma_numeros_pares(lista):\n",
    "    resultado = sum(funcao_par(lista))\n",
    "    return resultado\n",
    "def soma_numeros_impares(lista):\n",
    "    resultado = sum(funcao_impar(lista))\n",
    "    return resultado\n",
    "def min_lista(lista):\n",
    "    return min(lista)\n",
    "def max_lista(lista):\n",
    "    return max(lista)\n",
    "def media_num(lista):\n",
    "    try:\n",
    "        media=(sum(lista)/len(lista))\n",
    "    return\n",
    "\n"
   ]
  },
  {
   "cell_type": "code",
   "execution_count": 32,
   "metadata": {},
   "outputs": [
    {
     "name": "stdout",
     "output_type": "stream",
     "text": [
      "0\n",
      "2\n",
      "4\n",
      "Soma dos numeros pares: 6\n",
      "Soma dos numeros impares: 4\n",
      "Número mínimo: 0\n",
      "Número Máximo: 4\n",
      "Média da lista: 2.0\n"
     ]
    }
   ],
   "source": [
    "lista = (0,1,2,3,4)\n",
    "for i in ((funcao_par(lista))):\n",
    "    print(i)\n",
    "print(f\"Soma dos numeros pares: {soma_numeros_pares(lista)}\")\n",
    "print(f\"Soma dos numeros impares: {soma_numeros_impares(lista)}\")\n",
    "print(f\"Número mínimo: {min_lista(lista)}\")\n",
    "print(f\"Número Máximo: {max_lista(lista)}\")\n",
    "print(f\"Média da lista: {media_num(lista)}\")"
   ]
  }
 ],
 "metadata": {
  "kernelspec": {
   "display_name": "Python 3",
   "language": "python",
   "name": "python3"
  },
  "language_info": {
   "codemirror_mode": {
    "name": "ipython",
    "version": 3
   },
   "file_extension": ".py",
   "mimetype": "text/x-python",
   "name": "python",
   "nbconvert_exporter": "python",
   "pygments_lexer": "ipython3",
   "version": "3.12.1"
  }
 },
 "nbformat": 4,
 "nbformat_minor": 2
}
