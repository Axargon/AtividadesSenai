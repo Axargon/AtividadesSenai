{
 "cells": [
  {
   "cell_type": "markdown",
   "metadata": {},
   "source": [
    "### Carregar arquivo Excel com a base de dados"
   ]
  },
  {
   "cell_type": "code",
   "execution_count": 3,
   "metadata": {},
   "outputs": [],
   "source": [
    "import pandas as pd\n"
   ]
  },
  {
   "cell_type": "code",
   "execution_count": 4,
   "metadata": {},
   "outputs": [
    {
     "data": {
      "text/html": [
       "<div>\n",
       "<style scoped>\n",
       "    .dataframe tbody tr th:only-of-type {\n",
       "        vertical-align: middle;\n",
       "    }\n",
       "\n",
       "    .dataframe tbody tr th {\n",
       "        vertical-align: top;\n",
       "    }\n",
       "\n",
       "    .dataframe thead th {\n",
       "        text-align: right;\n",
       "    }\n",
       "</style>\n",
       "<table border=\"1\" class=\"dataframe\">\n",
       "  <thead>\n",
       "    <tr style=\"text-align: right;\">\n",
       "      <th></th>\n",
       "      <th>id</th>\n",
       "      <th>valor_total</th>\n",
       "      <th>unit</th>\n",
       "      <th>area_util</th>\n",
       "      <th>quartos</th>\n",
       "      <th>vagas</th>\n",
       "      <th>condominio</th>\n",
       "      <th>suites</th>\n",
       "      <th>banheiros</th>\n",
       "      <th>piscina</th>\n",
       "      <th>...</th>\n",
       "      <th>qtd_dados_bairro</th>\n",
       "      <th>media_idh</th>\n",
       "      <th>media_gini</th>\n",
       "      <th>expectativa_vida</th>\n",
       "      <th>renda_percapita</th>\n",
       "      <th>estacao_prox</th>\n",
       "      <th>linha_prox</th>\n",
       "      <th>dist</th>\n",
       "      <th>lat</th>\n",
       "      <th>lon</th>\n",
       "    </tr>\n",
       "  </thead>\n",
       "  <tbody>\n",
       "    <tr>\n",
       "      <th>0</th>\n",
       "      <td>526</td>\n",
       "      <td>189900</td>\n",
       "      <td>5934.38</td>\n",
       "      <td>32</td>\n",
       "      <td>2</td>\n",
       "      <td>1</td>\n",
       "      <td>180</td>\n",
       "      <td>0</td>\n",
       "      <td>1</td>\n",
       "      <td>0.0</td>\n",
       "      <td>...</td>\n",
       "      <td>36.0</td>\n",
       "      <td>0.697182</td>\n",
       "      <td>0.410909</td>\n",
       "      <td>72.751818</td>\n",
       "      <td>559.668182</td>\n",
       "      <td>SÃO MATEUS</td>\n",
       "      <td>PRATA</td>\n",
       "      <td>6822.823684</td>\n",
       "      <td>-23.583879</td>\n",
       "      <td>-46.417548</td>\n",
       "    </tr>\n",
       "    <tr>\n",
       "      <th>1</th>\n",
       "      <td>734</td>\n",
       "      <td>221110</td>\n",
       "      <td>5142.09</td>\n",
       "      <td>43</td>\n",
       "      <td>2</td>\n",
       "      <td>1</td>\n",
       "      <td>250</td>\n",
       "      <td>0</td>\n",
       "      <td>1</td>\n",
       "      <td>0.0</td>\n",
       "      <td>...</td>\n",
       "      <td>36.0</td>\n",
       "      <td>0.697182</td>\n",
       "      <td>0.410909</td>\n",
       "      <td>72.751818</td>\n",
       "      <td>559.668182</td>\n",
       "      <td>CORINTHIANS-ITAQUERA</td>\n",
       "      <td>VERMELHA</td>\n",
       "      <td>4682.709841</td>\n",
       "      <td>-23.543535</td>\n",
       "      <td>-46.425492</td>\n",
       "    </tr>\n",
       "    <tr>\n",
       "      <th>2</th>\n",
       "      <td>738</td>\n",
       "      <td>219990</td>\n",
       "      <td>5116.05</td>\n",
       "      <td>43</td>\n",
       "      <td>1</td>\n",
       "      <td>1</td>\n",
       "      <td>300</td>\n",
       "      <td>0</td>\n",
       "      <td>1</td>\n",
       "      <td>1.0</td>\n",
       "      <td>...</td>\n",
       "      <td>36.0</td>\n",
       "      <td>0.697182</td>\n",
       "      <td>0.410909</td>\n",
       "      <td>72.751818</td>\n",
       "      <td>559.668182</td>\n",
       "      <td>CORINTHIANS-ITAQUERA</td>\n",
       "      <td>VERMELHA</td>\n",
       "      <td>4579.311123</td>\n",
       "      <td>-23.537339</td>\n",
       "      <td>-46.426823</td>\n",
       "    </tr>\n",
       "    <tr>\n",
       "      <th>3</th>\n",
       "      <td>753</td>\n",
       "      <td>219990</td>\n",
       "      <td>5116.05</td>\n",
       "      <td>43</td>\n",
       "      <td>2</td>\n",
       "      <td>1</td>\n",
       "      <td>300</td>\n",
       "      <td>0</td>\n",
       "      <td>1</td>\n",
       "      <td>1.0</td>\n",
       "      <td>...</td>\n",
       "      <td>36.0</td>\n",
       "      <td>0.697182</td>\n",
       "      <td>0.410909</td>\n",
       "      <td>72.751818</td>\n",
       "      <td>559.668182</td>\n",
       "      <td>CORINTHIANS-ITAQUERA</td>\n",
       "      <td>VERMELHA</td>\n",
       "      <td>4579.311123</td>\n",
       "      <td>-23.537339</td>\n",
       "      <td>-46.426823</td>\n",
       "    </tr>\n",
       "    <tr>\n",
       "      <th>4</th>\n",
       "      <td>924</td>\n",
       "      <td>220000</td>\n",
       "      <td>5365.85</td>\n",
       "      <td>41</td>\n",
       "      <td>2</td>\n",
       "      <td>1</td>\n",
       "      <td>300</td>\n",
       "      <td>0</td>\n",
       "      <td>1</td>\n",
       "      <td>1.0</td>\n",
       "      <td>...</td>\n",
       "      <td>36.0</td>\n",
       "      <td>0.697182</td>\n",
       "      <td>0.410909</td>\n",
       "      <td>72.751818</td>\n",
       "      <td>559.668182</td>\n",
       "      <td>CORINTHIANS-ITAQUERA</td>\n",
       "      <td>VERMELHA</td>\n",
       "      <td>3313.918703</td>\n",
       "      <td>-23.557799</td>\n",
       "      <td>-46.443523</td>\n",
       "    </tr>\n",
       "  </tbody>\n",
       "</table>\n",
       "<p>5 rows × 26 columns</p>\n",
       "</div>"
      ],
      "text/plain": [
       "    id valor_total     unit area_util  quartos  vagas condominio  suites  \\\n",
       "0  526      189900  5934.38        32        2      1        180       0   \n",
       "1  734      221110  5142.09        43        2      1        250       0   \n",
       "2  738      219990  5116.05        43        1      1        300       0   \n",
       "3  753      219990  5116.05        43        2      1        300       0   \n",
       "4  924      220000  5365.85        41        2      1        300       0   \n",
       "\n",
       "  banheiros  piscina  ... qtd_dados_bairro  media_idh media_gini  \\\n",
       "0         1      0.0  ...             36.0   0.697182   0.410909   \n",
       "1         1      0.0  ...             36.0   0.697182   0.410909   \n",
       "2         1      1.0  ...             36.0   0.697182   0.410909   \n",
       "3         1      1.0  ...             36.0   0.697182   0.410909   \n",
       "4         1      1.0  ...             36.0   0.697182   0.410909   \n",
       "\n",
       "  expectativa_vida renda_percapita          estacao_prox  linha_prox  \\\n",
       "0        72.751818      559.668182            SÃO MATEUS       PRATA   \n",
       "1        72.751818      559.668182  CORINTHIANS-ITAQUERA    VERMELHA   \n",
       "2        72.751818      559.668182  CORINTHIANS-ITAQUERA    VERMELHA   \n",
       "3        72.751818      559.668182  CORINTHIANS-ITAQUERA    VERMELHA   \n",
       "4        72.751818      559.668182  CORINTHIANS-ITAQUERA    VERMELHA   \n",
       "\n",
       "          dist        lat        lon  \n",
       "0  6822.823684 -23.583879 -46.417548  \n",
       "1  4682.709841 -23.543535 -46.425492  \n",
       "2  4579.311123 -23.537339 -46.426823  \n",
       "3  4579.311123 -23.537339 -46.426823  \n",
       "4  3313.918703 -23.557799 -46.443523  \n",
       "\n",
       "[5 rows x 26 columns]"
      ]
     },
     "execution_count": 4,
     "metadata": {},
     "output_type": "execute_result"
    }
   ],
   "source": [
    "df = pd.read_excel(\"dados_apartamentos.xlsx\")\n",
    "df.head()"
   ]
  },
  {
   "cell_type": "code",
   "execution_count": 6,
   "metadata": {},
   "outputs": [
    {
     "name": "stdout",
     "output_type": "stream",
     "text": [
      "<class 'pandas.core.frame.DataFrame'>\n",
      "RangeIndex: 2499 entries, 0 to 2498\n",
      "Data columns (total 26 columns):\n",
      " #   Column            Non-Null Count  Dtype  \n",
      "---  ------            --------------  -----  \n",
      " 0   id                2499 non-null   object \n",
      " 1   valor_total       2498 non-null   object \n",
      " 2   unit              2499 non-null   object \n",
      " 3   area_util         2499 non-null   object \n",
      " 4   quartos           2499 non-null   int64  \n",
      " 5   vagas             2499 non-null   int64  \n",
      " 6   condominio        2264 non-null   object \n",
      " 7   suites            2499 non-null   int64  \n",
      " 8   banheiros         2496 non-null   object \n",
      " 9   piscina           2498 non-null   float64\n",
      " 10  academia          2498 non-null   object \n",
      " 11  quadra            2499 non-null   int64  \n",
      " 12  endereco          2499 non-null   object \n",
      " 13  link              2498 non-null   object \n",
      " 14  bairro            2499 non-null   object \n",
      " 15  media_bairro      2492 non-null   float64\n",
      " 16  qtd_dados_bairro  2492 non-null   float64\n",
      " 17  media_idh         2497 non-null   float64\n",
      " 18  media_gini        2499 non-null   float64\n",
      " 19  expectativa_vida  2499 non-null   float64\n",
      " 20  renda_percapita   2499 non-null   float64\n",
      " 21  estacao_prox      2499 non-null   object \n",
      " 22  linha_prox        2499 non-null   object \n",
      " 23  dist              2499 non-null   float64\n",
      " 24  lat               2499 non-null   float64\n",
      " 25  lon               2499 non-null   float64\n",
      "dtypes: float64(10), int64(4), object(12)\n",
      "memory usage: 507.7+ KB\n"
     ]
    }
   ],
   "source": [
    "df.info()"
   ]
  },
  {
   "cell_type": "code",
   "execution_count": 7,
   "metadata": {},
   "outputs": [],
   "source": [
    "df = df.dropna()"
   ]
  },
  {
   "cell_type": "markdown",
   "metadata": {},
   "source": [
    "### Definicao de valores numericos para as colunas tipo objeto"
   ]
  },
  {
   "cell_type": "code",
   "execution_count": 10,
   "metadata": {},
   "outputs": [
    {
     "name": "stdout",
     "output_type": "stream",
     "text": [
      "Coluna id nao pode ser convertida para numerica\n",
      "Coluna valor_total nao pode ser convertida para numerica\n",
      "Coluna unit nao pode ser convertida para numerica\n",
      "Coluna area_util nao pode ser convertida para numerica\n",
      "Coluna condominio nao pode ser convertida para numerica\n",
      "Coluna banheiros nao pode ser convertida para numerica\n",
      "Coluna academia nao pode ser convertida para numerica\n",
      "Coluna endereco nao pode ser convertida para numerica\n",
      "Coluna link nao pode ser convertida para numerica\n",
      "Coluna bairro nao pode ser convertida para numerica\n",
      "Coluna estacao_prox nao pode ser convertida para numerica\n",
      "Coluna linha_prox nao pode ser convertida para numerica\n"
     ]
    }
   ],
   "source": [
    "for column in df.columns:\n",
    "    if df[column].dtype == \"object\":\n",
    "        try:\n",
    "            df[column] = pd.to_numeric(df[column], errors = 'raise')\n",
    "        except ValueError:\n",
    "            print(f\"Coluna {column} nao pode ser convertida para numerica\")\n",
    "        "
   ]
  },
  {
   "cell_type": "markdown",
   "metadata": {},
   "source": [
    "### Substituicao dos valores nao numericos para Nan e o tipo de coluna para Float"
   ]
  },
  {
   "cell_type": "code",
   "execution_count": 12,
   "metadata": {},
   "outputs": [],
   "source": [
    "colunasFloat = [\"valor_total\",\"unit\",\"area_util\",\"condominio\"]\n",
    "df[colunasFloat] = df[colunasFloat].apply(pd.to_numeric, errors = \"coerce\").astype(\"float\")\n",
    "# errors = \"coerce\", os valores náo numericos nas colunas especificadas serao substituidos por NAN"
   ]
  },
  {
   "cell_type": "markdown",
   "metadata": {},
   "source": [
    "### Substituicao dos valores nao numericos para NAN e tipo de coluna para int"
   ]
  },
  {
   "cell_type": "code",
   "execution_count": 14,
   "metadata": {},
   "outputs": [
    {
     "name": "stdout",
     "output_type": "stream",
     "text": [
      "<class 'pandas.core.frame.DataFrame'>\n",
      "Index: 2248 entries, 0 to 2498\n",
      "Data columns (total 26 columns):\n",
      " #   Column            Non-Null Count  Dtype  \n",
      "---  ------            --------------  -----  \n",
      " 0   id                2246 non-null   Int64  \n",
      " 1   valor_total       2247 non-null   float64\n",
      " 2   unit              2246 non-null   float64\n",
      " 3   area_util         2245 non-null   float64\n",
      " 4   quartos           2248 non-null   int64  \n",
      " 5   vagas             2248 non-null   int64  \n",
      " 6   condominio        2247 non-null   float64\n",
      " 7   suites            2248 non-null   int64  \n",
      " 8   banheiros         2246 non-null   Int64  \n",
      " 9   piscina           2248 non-null   Int64  \n",
      " 10  academia          2247 non-null   Int64  \n",
      " 11  quadra            2248 non-null   int64  \n",
      " 12  endereco          2248 non-null   object \n",
      " 13  link              2248 non-null   object \n",
      " 14  bairro            2248 non-null   object \n",
      " 15  media_bairro      2248 non-null   float64\n",
      " 16  qtd_dados_bairro  2248 non-null   float64\n",
      " 17  media_idh         2248 non-null   float64\n",
      " 18  media_gini        2248 non-null   float64\n",
      " 19  expectativa_vida  2248 non-null   float64\n",
      " 20  renda_percapita   2248 non-null   float64\n",
      " 21  estacao_prox      2248 non-null   object \n",
      " 22  linha_prox        2248 non-null   object \n",
      " 23  dist              2248 non-null   float64\n",
      " 24  lat               2248 non-null   float64\n",
      " 25  lon               2248 non-null   float64\n",
      "dtypes: Int64(4), float64(13), int64(4), object(5)\n",
      "memory usage: 483.0+ KB\n"
     ]
    }
   ],
   "source": [
    "colunasInt = [\"id\", \"banheiros\", \"academia\", \"piscina\"]\n",
    "df[colunasInt] = df[colunasInt].apply(pd.to_numeric, errors = \"coerce\").astype(\"Int64\")\n",
    "df.info()"
   ]
  },
  {
   "cell_type": "code",
   "execution_count": 15,
   "metadata": {},
   "outputs": [],
   "source": [
    "df.to_excel(\"dados_apartamentos_limpos.xlsx\")"
   ]
  }
 ],
 "metadata": {
  "kernelspec": {
   "display_name": "Python 3",
   "language": "python",
   "name": "python3"
  },
  "language_info": {
   "codemirror_mode": {
    "name": "ipython",
    "version": 3
   },
   "file_extension": ".py",
   "mimetype": "text/x-python",
   "name": "python",
   "nbconvert_exporter": "python",
   "pygments_lexer": "ipython3",
   "version": "3.12.6"
  }
 },
 "nbformat": 4,
 "nbformat_minor": 2
}
